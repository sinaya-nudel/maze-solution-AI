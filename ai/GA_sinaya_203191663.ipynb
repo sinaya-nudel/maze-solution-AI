{
 "cells": [
  {
   "cell_type": "markdown",
   "metadata": {
    "deletable": true,
    "editable": true
   },
   "source": [
    "# HW GA - Sinaya Nudel 203191663"
   ]
  },
  {
   "cell_type": "code",
   "execution_count": 1,
   "metadata": {
    "collapsed": true,
    "deletable": true,
    "editable": true
   },
   "outputs": [],
   "source": [
    "%matplotlib inline \n",
    "\n",
    "import pandas as pd \n",
    "import numpy as np\n",
    "import itertools\n",
    "import copy \n",
    "import matplotlib.pyplot as plt"
   ]
  },
  {
   "cell_type": "markdown",
   "metadata": {
    "deletable": true,
    "editable": true
   },
   "source": [
    "### Algorithm Settings "
   ]
  },
  {
   "cell_type": "markdown",
   "metadata": {
    "deletable": true,
    "editable": true
   },
   "source": [
    "#### Maze "
   ]
  },
  {
   "cell_type": "code",
   "execution_count": 2,
   "metadata": {
    "collapsed": true,
    "deletable": true,
    "editable": true
   },
   "outputs": [],
   "source": [
    "all_maze_size = [10, 25, 50]\n",
    "obstacales = [0, 0.05, 0.1]"
   ]
  },
  {
   "cell_type": "markdown",
   "metadata": {
    "deletable": true,
    "editable": true
   },
   "source": [
    "#### Algorithm "
   ]
  },
  {
   "cell_type": "code",
   "execution_count": 3,
   "metadata": {
    "collapsed": true,
    "deletable": true,
    "editable": true
   },
   "outputs": [],
   "source": [
    "generations_sizes = [25, 50, 100]\n",
    "\n",
    "max_generations= 50\n",
    "keep_from_previous = 0.25\n",
    "mutate_rate_in_population = 0.25\n",
    "mutate_rate_in_geneome = 0.4\n",
    "\n",
    "all_trials = list() "
   ]
  },
  {
   "cell_type": "markdown",
   "metadata": {
    "deletable": true,
    "editable": true
   },
   "source": [
    "### Algorithm Logic "
   ]
  },
  {
   "cell_type": "markdown",
   "metadata": {
    "deletable": true,
    "editable": true
   },
   "source": [
    "#### Helping Functions"
   ]
  },
  {
   "cell_type": "markdown",
   "metadata": {
    "deletable": true,
    "editable": true
   },
   "source": [
    "##### Move Functions "
   ]
  },
  {
   "cell_type": "code",
   "execution_count": 4,
   "metadata": {
    "collapsed": true,
    "deletable": true,
    "editable": true
   },
   "outputs": [],
   "source": [
    "move_left = lambda x,y: (x-1 , y)\n",
    "move_right = lambda x,y: (x + 1, y)\n",
    "move_up = lambda x,y: (x, y - 1) \n",
    "move_down = lambda x,y: (x, y + 1) \n",
    "\n",
    "def check_move(x, y, locations, maze, maze_size):\n",
    "    for val in [x, y]:\n",
    "        if val < 0 or val >= maze_size: \n",
    "            return 1\n",
    "    if maze[x][y] == 1:\n",
    "        return 2 \n",
    "    \n",
    "    #if len(locations) >= np.power(maze_size,2):\n",
    "    #    return 3 \n",
    "    if any([x == prev_x and y == prev_y for prev_x, prev_y in locations]):\n",
    "        return 3 \n",
    "    \n",
    "    return 0 \n",
    "\n",
    "moves_options = [move_up, move_down, move_left, move_right]"
   ]
  },
  {
   "cell_type": "markdown",
   "metadata": {
    "deletable": true,
    "editable": true
   },
   "source": [
    "##### Maze Generation "
   ]
  },
  {
   "cell_type": "code",
   "execution_count": 5,
   "metadata": {
    "collapsed": true,
    "deletable": true,
    "editable": true
   },
   "outputs": [],
   "source": [
    "def generate_maze(maze_size, obstacales_count):\n",
    "    maze = np.zeros([maze_size, maze_size])\n",
    "    maze[0,0] = 2 \n",
    "    maze[maze_size-1, maze_size-1] = 3 \n",
    "    possible_indices = pd.DataFrame(np.transpose(np.where(maze==0)), columns=['x','y'])\n",
    "    possible_indices = possible_indices.sample(obstacales_count)\n",
    "    obs_location = zip(possible_indices['x'].values, possible_indices['y'].values)\n",
    "    for curr_x, curr_y in obs_location:\n",
    "        maze[curr_x, curr_y] = 1 \n",
    "    return maze \n",
    "\n",
    "#generate_maze(5, 4)"
   ]
  },
  {
   "cell_type": "markdown",
   "metadata": {
    "deletable": true,
    "editable": true
   },
   "source": [
    "##### Mutation Logic"
   ]
  },
  {
   "cell_type": "code",
   "execution_count": 6,
   "metadata": {
    "collapsed": true,
    "deletable": true,
    "editable": true
   },
   "outputs": [],
   "source": [
    "def mutate(generation, mutate_rate_in_population, mutate_rate_in_geneome, size_to_keep):\n",
    "    for sample_ind, sample in enumerate(generation): \n",
    "        if sample_ind >= size_to_keep:\n",
    "            if np.random.rand() < mutate_rate_in_population:\n",
    "                for item_ind in range(len(sample['moves_ind'])):\n",
    "                    if np.random.rand() < mutate_rate_in_geneome:\n",
    "                        new_move = np.random.choice([0,1,2,3], p=[0.35, 0.35, 0.15, 0.15])\n",
    "                        new_action = [move_down, move_right, move_up, move_left][new_move]\n",
    "                        sample['moves_ind'][item_ind] = new_move\n",
    "                        sample['moves_actions'][item_ind] = new_action\n",
    "    return generation "
   ]
  },
  {
   "cell_type": "markdown",
   "metadata": {
    "deletable": true,
    "editable": true
   },
   "source": [
    "##### Mixing Gene Function"
   ]
  },
  {
   "cell_type": "code",
   "execution_count": 7,
   "metadata": {
    "collapsed": true,
    "deletable": true,
    "editable": true
   },
   "outputs": [],
   "source": [
    "def mix_perents(x, y, maze_size): \n",
    "    x_moves = x['moves_ind'].copy() \n",
    "    y_moves = y['moves_ind'].copy() \n",
    "    x_actions = x['moves_actions'].copy() \n",
    "    y_actions = y['moves_actions'].copy() \n",
    "    \n",
    "    x_counter = x['counter']\n",
    "    y_counter = y['counter']\n",
    "    \n",
    "    x_prob = y['score'] / float(x['score'] + y['score'])\n",
    "    y_prob = x['score'] / float(x['score'] + y['score'])\n",
    "    \n",
    "    x_locations = x['locations'].copy() \n",
    "    y_locations = y['locations'].copy()\n",
    "    \n",
    "    child_actions = list() \n",
    "    child_moves = list() \n",
    "    if np.random.rand() < 0.66:\n",
    "        if x_counter >= y_counter and x_counter > (maze_size / 2.0): \n",
    "            #print('X major')\n",
    "            for _ in range(x_counter - 4): \n",
    "                child_actions.append(x_actions.pop(0))\n",
    "                child_moves.append(x_moves[0])\n",
    "                x_moves = x_moves[1:]\n",
    "                curr_location = x_locations.pop(0)\n",
    "                if any([(maze_size - x) < 4 for x in curr_location]):\n",
    "                    break \n",
    "\n",
    "        elif y_counter > x_counter and y_counter > (maze_size / 2.0):\n",
    "            #print('Y major')\n",
    "            for _ in range(y_counter - 4): \n",
    "                child_actions.append(y_actions.pop(0))\n",
    "                child_moves.append(y_moves[0])\n",
    "                y_moves = y_moves[1:]\n",
    "                curr_location = y_locations.pop(0)\n",
    "                if any([(maze_size - x) < 4 for x in curr_location]):\n",
    "                    break \n",
    "\n",
    "    #print('child action len - ' + str(len(child_actions)))\n",
    "    for _ in range((maze_size * maze_size) - len(child_actions)): \n",
    "        is_x_superior_option = True if x_actions[0] in [move_down, move_right] else False \n",
    "        is_y_superior_option = True if y_actions[0] in [move_down, move_right] else False \n",
    "        probs = [0.5, 0.5]\n",
    "        if is_x_superior_option == True and is_y_superior_option == False:\n",
    "            probs = [0.9, 0.1]\n",
    "        if is_x_superior_option == False and is_y_superior_option == True:\n",
    "            probs = [0.1, 0.9]\n",
    "            \n",
    "        next_item = np.random.choice([0,1], p=probs)\n",
    "        \n",
    "        if next_item == 0: \n",
    "            #print('from x')\n",
    "            child_actions.append(x_actions.pop(0))\n",
    "            child_moves.append(x_moves[0])\n",
    "            x_moves = x_moves[1:]\n",
    "        else:\n",
    "            #print('from y')\n",
    "            child_actions.append(y_actions.pop(0))\n",
    "            child_moves.append(y_moves[0])\n",
    "            y_moves = y_moves[1:]\n",
    "            \n",
    "    child = {'moves_ind': child_moves,\n",
    "             'moves_actions': child_actions, \n",
    "             'locations': None,\n",
    "             'score':None,\n",
    "             'counter':None, \n",
    "             'is_valid':None, \n",
    "             'fit_score': None}\n",
    "    return child "
   ]
  },
  {
   "cell_type": "markdown",
   "metadata": {
    "deletable": true,
    "editable": true
   },
   "source": [
    "##### Generating Next Generation "
   ]
  },
  {
   "cell_type": "code",
   "execution_count": 8,
   "metadata": {
    "collapsed": true,
    "deletable": true,
    "editable": true
   },
   "outputs": [],
   "source": [
    "def generate_childrens(prev_gen=None, maze=None, gen_size=10, keep_prev_size=5, maze_size=None): \n",
    "    childrens = list() \n",
    "    if prev_gen is None:\n",
    "        # generating random childerens \n",
    "        for curr_gen in range(gen_size):\n",
    "            moves_ind = np.random.randint(0, 4, maze_size * maze_size)\n",
    "            moves_actions = [moves_options[x] for x in moves_ind]\n",
    "            child = {'moves_ind': moves_ind,\n",
    "                     'moves_actions': moves_actions, \n",
    "                     'locations': None,\n",
    "                     'counter': None, \n",
    "                     'is_valid':None, \n",
    "                     'score':None,\n",
    "                     'fit_score': None}\n",
    "            childrens.append(child)\n",
    "    else:\n",
    "        for keep_sample in prev_gen[:int(keep_prev_size / 2)]:\n",
    "            childrens.append(copy.deepcopy(keep_sample))\n",
    "        for _ in range(int(keep_prev_size / 2)):\n",
    "            keep_sample = np.random.choice(prev_gen)\n",
    "            childrens.append(copy.deepcopy(keep_sample))\n",
    "        fit_scores = [x['fit_score'] for x in prev_gen]\n",
    "        #print('fit scores')\n",
    "        #print(fit_scores)\n",
    "        for ind in range(gen_size - len(childrens)):\n",
    "            \n",
    "            curr_fit_scores = fit_scores[ind+1:]\n",
    "            curr_fit_scores_sum = np.sum(curr_fit_scores)\n",
    "            curr_fit_scores = [x / curr_fit_scores_sum for x in curr_fit_scores]\n",
    "            if ind == 0 or np.random.rand() < 0.1:\n",
    "                #second_sample_id = np.random.choice(range(len(prev_gen)), p=fit_scores)\n",
    "                second_sample_id = np.random.choice(range(len(prev_gen)))\n",
    "                childrens.append(mix_perents(prev_gen[ind], prev_gen[second_sample_id] , maze_size))\n",
    "                #print('case 1: X id = ' + str(ind) + ' , Y id = ' + str(second_sample_id))\n",
    "            else:\n",
    "                curr_fit_scores_a = fit_scores[:ind]\n",
    "                curr_fit_scores_sum_a = np.sum(curr_fit_scores_a)\n",
    "                curr_fit_scores_a = [x / curr_fit_scores_sum_a for x in curr_fit_scores_a]\n",
    "                first_sample_id = np.random.choice(range(ind), p=curr_fit_scores_a)\n",
    "                second_sample_id = np.random.choice(range(len(prev_gen)), p=fit_scores)\n",
    "                if prev_gen[first_sample_id]['score'] == prev_gen[second_sample_id]['score']:\n",
    "                    #print('case 3: equal case')\n",
    "                    childrens.append(mix_perents(np.random.choice(prev_gen), np.random.choice(prev_gen) , maze_size))\n",
    "                else:\n",
    "                    #print('case 2: X id = ' + str(first_sample_id) + ' , Y id = ' + str(second_sample_id))\n",
    "                    childrens.append(mix_perents(prev_gen[first_sample_id], prev_gen[second_sample_id], maze_size))\n",
    "    return childrens\n",
    "    \n"
   ]
  },
  {
   "cell_type": "markdown",
   "metadata": {
    "deletable": true,
    "editable": true
   },
   "source": [
    "##### Score Method for One Gene"
   ]
  },
  {
   "cell_type": "code",
   "execution_count": 9,
   "metadata": {
    "collapsed": true,
    "deletable": true,
    "editable": true
   },
   "outputs": [],
   "source": [
    "def score_one_sample(sample, maze, maze_size):\n",
    "    start_point = (0, 0)\n",
    "    end_point = (maze_size - 1, maze_size - 1) \n",
    "    \n",
    "    x, y = start_point \n",
    "    locations = [start_point]\n",
    "    counter = 0 \n",
    "    #print(sample['moves_ind'])\n",
    "    for curr_action in sample['moves_actions']:\n",
    "        x, y = curr_action(x, y)\n",
    "        counter = counter + 1 \n",
    "        #print('location - ' + str([x, y]))\n",
    "        move_result = check_move(x, y, locations, maze, maze_size)\n",
    "        if move_result == 0:\n",
    "            locations.append((x, y))\n",
    "            if x == end_point[0] and y == end_point[1]:\n",
    "                sample['score'] = (counter / float(np.power(maze_size, 8)))\n",
    "                sample['counter'] = counter \n",
    "                sample['locations'] = locations \n",
    "                sample['is_valid'] = True \n",
    "                #print('valid ' + str([x,y]) + ' score ' + str(sample['score']))\n",
    "                return sample \n",
    "        else:\n",
    "            x_dist =  np.abs(x - end_point[0])\n",
    "            y_dist = np.abs(y - end_point[1])\n",
    "            min_item = np.min([x_dist, y_dist, 2]) \n",
    "            max_item = np.max([x_dist, y_dist]) \n",
    "            #dist_penalty = np.power(max_item, 2) + min_item\n",
    "            #dist_penalty = np.power(min_item, 2)/ float(counter * np.power(maze_size - max_item, 2)) \n",
    "            dist_penalty = np.power(np.max([(max_item-min_item), 10]),2) * np.max([(max_item-min_item), 5]) * np.max([min_item,1]) / (float(counter * np.power(np.max([maze_size - max_item,1]), 2))) \n",
    "            if min_item < 3 and (max_item - min_item) > 4:\n",
    "                dist_penalty = dist_penalty * np.power((max_item), 2) \n",
    "            if min_item == 0 and max_item > 1:\n",
    "                dist_penalty = dist_penalty * np.power(2, np.min([max_item, 5])) \n",
    "            #dist_penalty = dist_penalty * ((max_item - min_item + 1) / float(np.power(maze_size, 2)))\n",
    "            sample['score'] = dist_penalty\n",
    "            sample['counter'] = counter \n",
    "            sample['locations'] = locations \n",
    "            sample['is_valid'] = False \n",
    "            return sample \n",
    "            \"\"\"\n",
    "            if move_result == 1:\n",
    "                #if min_item < 3:\n",
    "                #    sample['score'] = sample['score'] * 5\n",
    "                print('not_valid (out of bound) ' + str([x,y]) + ' counter ' + str(counter) + ' score = ' + str(sample['score']))\n",
    "            if move_result == 2:\n",
    "                #if min_item < 3:\n",
    "                #    sample['score'] = sample['score'] * 5\n",
    "                print('not_valid (block) ' + str([x,y]) + ' counter ' + str(counter) + ' score = ' + str(sample['score']))\n",
    "            if move_result == 3:\n",
    "                #if min_item < 3:\n",
    "                #    sample['score'] = sample['score'] * 5\n",
    "                print('not_valid (circle) ' + str([x,y]) + ' counter ' + str(counter) + ' score = ' + str(sample['score']))\n",
    "            \"\"\"\n",
    "            \n",
    "        \n"
   ]
  },
  {
   "cell_type": "markdown",
   "metadata": {
    "deletable": true,
    "editable": true
   },
   "source": [
    "##### Fit Function Calculation"
   ]
  },
  {
   "cell_type": "code",
   "execution_count": 10,
   "metadata": {
    "collapsed": true,
    "deletable": true,
    "editable": true
   },
   "outputs": [],
   "source": [
    "def score_generation(generation, maze, maze_size):\n",
    "    scores = list() \n",
    "\n",
    "    for sample in generation:\n",
    "        if sample is None: \n",
    "            print('here1')\n",
    "        sample = score_one_sample(sample, maze, maze_size)\n",
    "        if sample is None: \n",
    "            print('here2')\n",
    "        scores.append(1 / float(sample['score']))\n",
    "        \n",
    "    scores_sum = np.sum(scores)\n",
    "    scores = [x / scores_sum for x in scores]\n",
    "   \n",
    "    for sample, sample_fit_score in zip(generation, scores):\n",
    "        sample['fit_score'] = sample_fit_score\n",
    "    \n",
    "    return sorted(generation, key=lambda d:d['fit_score'], reverse=True)"
   ]
  },
  {
   "cell_type": "markdown",
   "metadata": {
    "deletable": true,
    "editable": true
   },
   "source": [
    "##### Test Converegence Method"
   ]
  },
  {
   "cell_type": "code",
   "execution_count": 11,
   "metadata": {
    "collapsed": true,
    "deletable": true,
    "editable": true
   },
   "outputs": [],
   "source": [
    "def check_convergence(gen, counter, value): \n",
    "    if gen[0]['is_valid']:\n",
    "        if gen[0]['score'] < value:\n",
    "            return True, 0, gen[0]['score']\n",
    "        else:\n",
    "            return True, counter + 1, value\n",
    "    else:\n",
    "        return False, 0, gen[0]['score']"
   ]
  },
  {
   "cell_type": "markdown",
   "metadata": {
    "deletable": true,
    "editable": true
   },
   "source": [
    "#### Run Logic (The Algorithm) Iterating Over All the Options we want to Test "
   ]
  },
  {
   "cell_type": "code",
   "execution_count": null,
   "metadata": {
    "collapsed": true,
    "deletable": true,
    "editable": true
   },
   "outputs": [],
   "source": [
    "# iterating over all combinations  \n",
    "for maze_size, obstacles_fraction, gen_size in itertools.product(all_maze_size, obstacales, generations_sizes):\n",
    "    print('Start Simulation ') \n",
    "    obstacales_count = int(obstacles_fraction * (maze_size * maze_size))\n",
    "    keep_from_previous_count = int(keep_from_previous * gen_size)\n",
    "    print('    maze size = ' + str(maze_size))\n",
    "    print('    generation size = ' + str(gen_size))\n",
    "    print('    obstacales count = ' + str(obstacales_count))\n",
    "    \n",
    "    \n",
    "    # for analysis \n",
    "    curr_run = {'gen_size': gen_size, \n",
    "                'maze_size': maze_size, \n",
    "                'obstacle_count': obstacales_count, \n",
    "                'finish_gen': None, \n",
    "                'generations': list()}\n",
    "\n",
    "    # start of actual algorithm \n",
    "    prev_gen = None \n",
    "    next_gen = None \n",
    "    maze = generate_maze(maze_size, obstacales_count)\n",
    "    print('Maze of size ' + str([maze_size, maze_size]) + ' is:')\n",
    "    print(maze) \n",
    "          \n",
    "    all_generations = list() \n",
    "    counter = 0 \n",
    "    best_value = maze_size\n",
    "    for curr_gen in range(max_generations): \n",
    "        #print('Start Generation ' + str(curr_gen))\n",
    "        next_gen = generate_childrens(prev_gen,maze, gen_size, keep_from_previous_count, maze_size)\n",
    "        next_gen = score_generation(next_gen, maze, maze_size)\n",
    "        next_gen = mutate(next_gen, mutate_rate_in_population, mutate_rate_in_geneome, keep_from_previous_count)\n",
    "        next_gen = score_generation(next_gen, maze, maze_size)\n",
    "        is_done, counter, best_value = check_convergence(next_gen, counter, best_value) \n",
    "\n",
    "        print('Generation - ' + str(curr_gen) +', best location - ' + str(next_gen[0]['locations'][-1]))\n",
    "        all_generations.append(next_gen)\n",
    "        if is_done and counter > 10:\n",
    "            print('DONE!')\n",
    "            break\n",
    "        else: \n",
    "            prev_gen = next_gen\n",
    "            \n",
    "    all_trials.append({\n",
    "        'generations':all_generations,\n",
    "        'len': len(all_generations),\n",
    "        'best': all_generations[-1][0],\n",
    "        'valid': all_generations[-1][0]['is_valid'], \n",
    "        'gen_size': gen_size,\n",
    "        'maze_size': maze_size,\n",
    "        'obstacles': obstacales_count, \n",
    "        'maze': maze \n",
    "    })\n",
    "\n"
   ]
  },
  {
   "cell_type": "markdown",
   "metadata": {
    "deletable": true,
    "editable": true
   },
   "source": [
    "### Results Analysis "
   ]
  },
  {
   "cell_type": "markdown",
   "metadata": {
    "deletable": true,
    "editable": true
   },
   "source": [
    "#### Visual Performance of Each Combination Tested "
   ]
  },
  {
   "cell_type": "code",
   "execution_count": 71,
   "metadata": {
    "collapsed": false,
    "deletable": true,
    "editable": true
   },
   "outputs": [
    {
     "name": "stdout",
     "output_type": "stream",
     "text": [
      "\n",
      "\n",
      "\n",
      "\n",
      "\n",
      "\n",
      "\n",
      "\n",
      "\n",
      "\n",
      "\n",
      "\n",
      "\n",
      "\n",
      "\n",
      "\n",
      "\n",
      "\n",
      "\n",
      "\n",
      "--------------------------------------------------\n",
      "--------------------------------------------------\n",
      " Gen Size - 25\n",
      " Maze Size - [10 , 10]\n",
      " Obstacles Count - 0\n",
      " End Location - (9, 9)\n",
      " Was Solved - True\n"
     ]
    },
    {
     "data": {
      "image/png": "[encoded data removed]",
      "text/plain": [
       "<Figure size 432x288 with 1 Axes>"
      ]
     },
     "metadata": {
      "needs_background": "light"
     },
     "output_type": "display_data"
    },
    {
     "name": "stdout",
     "output_type": "stream",
     "text": [
      "\n",
      "\n",
      "\n",
      "\n",
      "\n",
      "\n",
      "\n",
      "\n",
      "\n",
      "\n",
      "\n",
      "\n",
      "\n",
      "\n",
      "\n",
      "\n",
      "\n",
      "\n",
      "\n",
      "\n",
      "--------------------------------------------------\n",
      "--------------------------------------------------\n",
      " Gen Size - 50\n",
      " Maze Size - [10 , 10]\n",
      " Obstacles Count - 0\n",
      " End Location - (9, 9)\n",
      " Was Solved - True\n"
     ]
    },
    {
     "data": {
      "image/png": "[encoded data removed]",
      "text/plain": [
       "<Figure size 432x288 with 1 Axes>"
      ]
     },
     "metadata": {
      "needs_background": "light"
     },
     "output_type": "display_data"
    },
    {
     "name": "stdout",
     "output_type": "stream",
     "text": [
      "\n",
      "\n",
      "\n",
      "\n",
      "\n",
      "\n",
      "\n",
      "\n",
      "\n",
      "\n",
      "\n",
      "\n",
      "\n",
      "\n",
      "\n",
      "\n",
      "\n",
      "\n",
      "\n",
      "\n",
      "--------------------------------------------------\n",
      "--------------------------------------------------\n",
      " Gen Size - 100\n",
      " Maze Size - [10 , 10]\n",
      " Obstacles Count - 0\n",
      " End Location - (9, 9)\n",
      " Was Solved - True\n"
     ]
    },
    {
     "data": {
      "image/png": "[encoded data removed]",
      "text/plain": [
       "<Figure size 432x288 with 1 Axes>"
      ]
     },
     "metadata": {
      "needs_background": "light"
     },
     "output_type": "display_data"
    },
    {
     "name": "stdout",
     "output_type": "stream",
     "text": [
      "\n",
      "\n",
      "\n",
      "\n",
      "\n",
      "\n",
      "\n",
      "\n",
      "\n",
      "\n",
      "\n",
      "\n",
      "\n",
      "\n",
      "\n",
      "\n",
      "\n",
      "\n",
      "\n",
      "\n",
      "--------------------------------------------------\n",
      "--------------------------------------------------\n",
      " Gen Size - 25\n",
      " Maze Size - [10 , 10]\n",
      " Obstacles Count - 5\n",
      " End Location - (9, 9)\n",
      " Was Solved - True\n"
     ]
    },
    {
     "data": {
      "image/png": "[encoded data removed]",
      "text/plain": [
       "<Figure size 432x288 with 1 Axes>"
      ]
     },
     "metadata": {
      "needs_background": "light"
     },
     "output_type": "display_data"
    },
    {
     "name": "stdout",
     "output_type": "stream",
     "text": [
      "\n",
      "\n",
      "\n",
      "\n",
      "\n",
      "\n",
      "\n",
      "\n",
      "\n",
      "\n",
      "\n",
      "\n",
      "\n",
      "\n",
      "\n",
      "\n",
      "\n",
      "\n",
      "\n",
      "\n",
      "--------------------------------------------------\n",
      "--------------------------------------------------\n",
      " Gen Size - 50\n",
      " Maze Size - [10 , 10]\n",
      " Obstacles Count - 5\n",
      " End Location - (9, 9)\n",
      " Was Solved - True\n"
     ]
    },
    {
     "data": {
      "image/png": "[encoded data removed]",
      "text/plain": [
       "<Figure size 432x288 with 1 Axes>"
      ]
     },
     "metadata": {
      "needs_background": "light"
     },
     "output_type": "display_data"
    },
    {
     "name": "stdout",
     "output_type": "stream",
     "text": [
      "\n",
      "\n",
      "\n",
      "\n",
      "\n",
      "\n",
      "\n",
      "\n",
      "\n",
      "\n",
      "\n",
      "\n",
      "\n",
      "\n",
      "\n",
      "\n",
      "\n",
      "\n",
      "\n",
      "\n",
      "--------------------------------------------------\n",
      "--------------------------------------------------\n",
      " Gen Size - 100\n",
      " Maze Size - [10 , 10]\n",
      " Obstacles Count - 5\n",
      " End Location - (9, 9)\n",
      " Was Solved - True\n"
     ]
    },
    {
     "data": {
      "image/png": "[encoded data removed]",
      "text/plain": [
       "<Figure size 432x288 with 1 Axes>"
      ]
     },
     "metadata": {
      "needs_background": "light"
     },
     "output_type": "display_data"
    },
    {
     "name": "stdout",
     "output_type": "stream",
     "text": [
      "\n",
      "\n",
      "\n",
      "\n",
      "\n",
      "\n",
      "\n",
      "\n",
      "\n",
      "\n",
      "\n",
      "\n",
      "\n",
      "\n",
      "\n",
      "\n",
      "\n",
      "\n",
      "\n",
      "\n",
      "--------------------------------------------------\n",
      "--------------------------------------------------\n",
      " Gen Size - 25\n",
      " Maze Size - [10 , 10]\n",
      " Obstacles Count - 10\n",
      " End Location - (9, 9)\n",
      " Was Solved - True\n"
     ]
    },
    {
     "data": {
      "image/png": "[encoded data removed]",
      "text/plain": [
       "<Figure size 432x288 with 1 Axes>"
      ]
     },
     "metadata": {
      "needs_background": "light"
     },
     "output_type": "display_data"
    },
    {
     "name": "stdout",
     "output_type": "stream",
     "text": [
      "\n",
      "\n",
      "\n",
      "\n",
      "\n",
      "\n",
      "\n",
      "\n",
      "\n",
      "\n",
      "\n",
      "\n",
      "\n",
      "\n",
      "\n",
      "\n",
      "\n",
      "\n",
      "\n",
      "\n",
      "--------------------------------------------------\n",
      "--------------------------------------------------\n",
      " Gen Size - 50\n",
      " Maze Size - [10 , 10]\n",
      " Obstacles Count - 10\n",
      " End Location - (9, 9)\n",
      " Was Solved - True\n"
     ]
    },
    {
     "data": {
      "image/png": "[encoded data removed]",
      "text/plain": [
       "<Figure size 432x288 with 1 Axes>"
      ]
     },
     "metadata": {
      "needs_background": "light"
     },
     "output_type": "display_data"
    },
    {
     "name": "stdout",
     "output_type": "stream",
     "text": [
      "\n",
      "\n",
      "\n",
      "\n",
      "\n",
      "\n",
      "\n",
      "\n",
      "\n",
      "\n",
      "\n",
      "\n",
      "\n",
      "\n",
      "\n",
      "\n",
      "\n",
      "\n",
      "\n",
      "\n",
      "--------------------------------------------------\n",
      "--------------------------------------------------\n",
      " Gen Size - 100\n",
      " Maze Size - [10 , 10]\n",
      " Obstacles Count - 10\n",
      " End Location - (9, 9)\n",
      " Was Solved - True\n"
     ]
    },
    {
     "data": {
      "image/png": "[encoded data removed]",
      "text/plain": [
       "<Figure size 432x288 with 1 Axes>"
      ]
     },
     "metadata": {
      "needs_background": "light"
     },
     "output_type": "display_data"
    },
    {
     "name": "stdout",
     "output_type": "stream",
     "text": [
      "\n",
      "\n",
      "\n",
      "\n",
      "\n",
      "\n",
      "\n",
      "\n",
      "\n",
      "\n",
      "\n",
      "\n",
      "\n",
      "\n",
      "\n",
      "\n",
      "\n",
      "\n",
      "\n",
      "\n",
      "--------------------------------------------------\n",
      "--------------------------------------------------\n",
      " Gen Size - 25\n",
      " Maze Size - [25 , 25]\n",
      " Obstacles Count - 0\n",
      " End Location - (24, 24)\n",
      " Was Solved - True\n"
     ]
    },
    {
     "data": {
      "image/png": "[encoded data removed]",
      "text/plain": [
       "<Figure size 432x288 with 1 Axes>"
      ]
     },
     "metadata": {
      "needs_background": "light"
     },
     "output_type": "display_data"
    },
    {
     "name": "stdout",
     "output_type": "stream",
     "text": [
      "\n",
      "\n",
      "\n",
      "\n",
      "\n",
      "\n",
      "\n",
      "\n",
      "\n",
      "\n",
      "\n",
      "\n",
      "\n",
      "\n",
      "\n",
      "\n",
      "\n",
      "\n",
      "\n",
      "\n",
      "--------------------------------------------------\n",
      "--------------------------------------------------\n",
      " Gen Size - 50\n",
      " Maze Size - [25 , 25]\n",
      " Obstacles Count - 0\n",
      " End Location - (24, 24)\n",
      " Was Solved - True\n"
     ]
    },
    {
     "data": {
      "image/png": "[encoded data removed]",
      "text/plain": [
       "<Figure size 432x288 with 1 Axes>"
      ]
     },
     "metadata": {
      "needs_background": "light"
     },
     "output_type": "display_data"
    },
    {
     "name": "stdout",
     "output_type": "stream",
     "text": [
      "\n",
      "\n",
      "\n",
      "\n",
      "\n",
      "\n",
      "\n",
      "\n",
      "\n",
      "\n",
      "\n",
      "\n",
      "\n",
      "\n",
      "\n",
      "\n",
      "\n",
      "\n",
      "\n",
      "\n",
      "--------------------------------------------------\n",
      "--------------------------------------------------\n",
      " Gen Size - 100\n",
      " Maze Size - [25 , 25]\n",
      " Obstacles Count - 0\n",
      " End Location - (24, 24)\n",
      " Was Solved - True\n"
     ]
    },
    {
     "data": {
      "image/png": "[encoded data removed]",
      "text/plain": [
       "<Figure size 432x288 with 1 Axes>"
      ]
     },
     "metadata": {
      "needs_background": "light"
     },
     "output_type": "display_data"
    },
    {
     "name": "stdout",
     "output_type": "stream",
     "text": [
      "\n",
      "\n",
      "\n",
      "\n",
      "\n",
      "\n",
      "\n",
      "\n",
      "\n",
      "\n",
      "\n",
      "\n",
      "\n",
      "\n",
      "\n",
      "\n",
      "\n",
      "\n",
      "\n",
      "\n",
      "--------------------------------------------------\n",
      "--------------------------------------------------\n",
      " Gen Size - 25\n",
      " Maze Size - [25 , 25]\n",
      " Obstacles Count - 31\n",
      " End Location - (23, 24)\n",
      " Was Solved - False\n"
     ]
    },
    {
     "data": {
      "image/png": "[encoded data removed]",
      "text/plain": [
       "<Figure size 432x288 with 1 Axes>"
      ]
     },
     "metadata": {
      "needs_background": "light"
     },
     "output_type": "display_data"
    },
    {
     "name": "stdout",
     "output_type": "stream",
     "text": [
      "\n",
      "\n",
      "\n",
      "\n",
      "\n",
      "\n",
      "\n",
      "\n",
      "\n",
      "\n",
      "\n",
      "\n",
      "\n",
      "\n",
      "\n",
      "\n",
      "\n",
      "\n",
      "\n",
      "\n",
      "--------------------------------------------------\n",
      "--------------------------------------------------\n",
      " Gen Size - 50\n",
      " Maze Size - [25 , 25]\n",
      " Obstacles Count - 31\n",
      " End Location - (24, 24)\n",
      " Was Solved - True\n"
     ]
    },
    {
     "data": {
      "image/png": "[encoded data removed]",
      "text/plain": [
       "<Figure size 432x288 with 1 Axes>"
      ]
     },
     "metadata": {
      "needs_background": "light"
     },
     "output_type": "display_data"
    },
    {
     "name": "stdout",
     "output_type": "stream",
     "text": [
      "\n",
      "\n",
      "\n",
      "\n",
      "\n",
      "\n",
      "\n",
      "\n",
      "\n",
      "\n",
      "\n",
      "\n",
      "\n",
      "\n",
      "\n",
      "\n",
      "\n",
      "\n",
      "\n",
      "\n",
      "--------------------------------------------------\n",
      "--------------------------------------------------\n",
      " Gen Size - 100\n",
      " Maze Size - [25 , 25]\n",
      " Obstacles Count - 31\n",
      " End Location - (24, 24)\n",
      " Was Solved - True\n"
     ]
    },
    {
     "data": {
      "image/png": "[encoded data removed]",
      "text/plain": [
       "<Figure size 432x288 with 1 Axes>"
      ]
     },
     "metadata": {
      "needs_background": "light"
     },
     "output_type": "display_data"
    },
    {
     "name": "stdout",
     "output_type": "stream",
     "text": [
      "\n",
      "\n",
      "\n",
      "\n",
      "\n",
      "\n",
      "\n",
      "\n",
      "\n",
      "\n",
      "\n",
      "\n",
      "\n",
      "\n",
      "\n",
      "\n",
      "\n",
      "\n",
      "\n",
      "\n",
      "--------------------------------------------------\n",
      "--------------------------------------------------\n",
      " Gen Size - 25\n",
      " Maze Size - [25 , 25]\n",
      " Obstacles Count - 62\n",
      " End Location - (24, 15)\n",
      " Was Solved - False\n"
     ]
    },
    {
     "data": {
      "image/png": "[encoded data removed]",
      "text/plain": [
       "<Figure size 432x288 with 1 Axes>"
      ]
     },
     "metadata": {
      "needs_background": "light"
     },
     "output_type": "display_data"
    },
    {
     "name": "stdout",
     "output_type": "stream",
     "text": [
      "\n",
      "\n",
      "\n",
      "\n",
      "\n",
      "\n",
      "\n",
      "\n",
      "\n",
      "\n",
      "\n",
      "\n",
      "\n",
      "\n",
      "\n",
      "\n",
      "\n",
      "\n",
      "\n",
      "\n",
      "--------------------------------------------------\n",
      "--------------------------------------------------\n",
      " Gen Size - 50\n",
      " Maze Size - [25 , 25]\n",
      " Obstacles Count - 62\n",
      " End Location - (24, 24)\n",
      " Was Solved - True\n"
     ]
    },
    {
     "data": {
      "image/png": "[encoded data removed]",
      "text/plain": [
       "<Figure size 432x288 with 1 Axes>"
      ]
     },
     "metadata": {
      "needs_background": "light"
     },
     "output_type": "display_data"
    },
    {
     "name": "stdout",
     "output_type": "stream",
     "text": [
      "\n",
      "\n",
      "\n",
      "\n",
      "\n",
      "\n",
      "\n",
      "\n",
      "\n",
      "\n",
      "\n",
      "\n",
      "\n",
      "\n",
      "\n",
      "\n",
      "\n",
      "\n",
      "\n",
      "\n",
      "--------------------------------------------------\n",
      "--------------------------------------------------\n",
      " Gen Size - 100\n",
      " Maze Size - [25 , 25]\n",
      " Obstacles Count - 62\n",
      " End Location - (24, 24)\n",
      " Was Solved - True\n"
     ]
    },
    {
     "data": {
      "image/png": "[encoded data removed]",
      "text/plain": [
       "<Figure size 432x288 with 1 Axes>"
      ]
     },
     "metadata": {
      "needs_background": "light"
     },
     "output_type": "display_data"
    },
    {
     "name": "stdout",
     "output_type": "stream",
     "text": [
      "\n",
      "\n",
      "\n",
      "\n",
      "\n",
      "\n",
      "\n",
      "\n",
      "\n",
      "\n",
      "\n",
      "\n",
      "\n",
      "\n",
      "\n",
      "\n",
      "\n",
      "\n",
      "\n",
      "\n",
      "--------------------------------------------------\n",
      "--------------------------------------------------\n",
      " Gen Size - 25\n",
      " Maze Size - [50 , 50]\n",
      " Obstacles Count - 0\n",
      " End Location - (49, 31)\n",
      " Was Solved - False\n"
     ]
    },
    {
     "data": {
      "image/png": "[encoded data removed]",
      "text/plain": [
       "<Figure size 432x288 with 1 Axes>"
      ]
     },
     "metadata": {
      "needs_background": "light"
     },
     "output_type": "display_data"
    },
    {
     "name": "stdout",
     "output_type": "stream",
     "text": [
      "\n",
      "\n",
      "\n",
      "\n",
      "\n",
      "\n",
      "\n",
      "\n",
      "\n",
      "\n",
      "\n",
      "\n",
      "\n",
      "\n",
      "\n",
      "\n",
      "\n",
      "\n",
      "\n",
      "\n",
      "--------------------------------------------------\n",
      "--------------------------------------------------\n",
      " Gen Size - 50\n",
      " Maze Size - [50 , 50]\n",
      " Obstacles Count - 0\n",
      " End Location - (49, 49)\n",
      " Was Solved - True\n"
     ]
    },
    {
     "data": {
      "image/png": "[encoded data removed]",
      "text/plain": [
       "<Figure size 432x288 with 1 Axes>"
      ]
     },
     "metadata": {
      "needs_background": "light"
     },
     "output_type": "display_data"
    },
    {
     "name": "stdout",
     "output_type": "stream",
     "text": [
      "\n",
      "\n",
      "\n",
      "\n",
      "\n",
      "\n",
      "\n",
      "\n",
      "\n",
      "\n",
      "\n",
      "\n",
      "\n",
      "\n",
      "\n",
      "\n",
      "\n",
      "\n",
      "\n",
      "\n",
      "--------------------------------------------------\n",
      "--------------------------------------------------\n",
      " Gen Size - 100\n",
      " Maze Size - [50 , 50]\n",
      " Obstacles Count - 0\n",
      " End Location - (49, 49)\n",
      " Was Solved - True\n"
     ]
    },
    {
     "data": {
      "image/png": "[encoded data removed]",
      "text/plain": [
       "<Figure size 432x288 with 1 Axes>"
      ]
     },
     "metadata": {
      "needs_background": "light"
     },
     "output_type": "display_data"
    },
    {
     "name": "stdout",
     "output_type": "stream",
     "text": [
      "\n",
      "\n",
      "\n",
      "\n",
      "\n",
      "\n",
      "\n",
      "\n",
      "\n",
      "\n",
      "\n",
      "\n",
      "\n",
      "\n",
      "\n",
      "\n",
      "\n",
      "\n",
      "\n",
      "\n",
      "--------------------------------------------------\n",
      "--------------------------------------------------\n",
      " Gen Size - 25\n",
      " Maze Size - [50 , 50]\n",
      " Obstacles Count - 125\n",
      " End Location - (49, 48)\n",
      " Was Solved - False\n"
     ]
    },
    {
     "data": {
      "image/png": "[encoded data removed]",
      "text/plain": [
       "<Figure size 432x288 with 1 Axes>"
      ]
     },
     "metadata": {
      "needs_background": "light"
     },
     "output_type": "display_data"
    },
    {
     "name": "stdout",
     "output_type": "stream",
     "text": [
      "\n",
      "\n",
      "\n",
      "\n",
      "\n",
      "\n",
      "\n",
      "\n",
      "\n",
      "\n",
      "\n",
      "\n",
      "\n",
      "\n",
      "\n",
      "\n",
      "\n",
      "\n",
      "\n",
      "\n",
      "--------------------------------------------------\n",
      "--------------------------------------------------\n",
      " Gen Size - 50\n",
      " Maze Size - [50 , 50]\n",
      " Obstacles Count - 125\n",
      " End Location - (43, 49)\n",
      " Was Solved - False\n"
     ]
    },
    {
     "data": {
      "image/png": "[encoded data removed]",
      "text/plain": [
       "<Figure size 432x288 with 1 Axes>"
      ]
     },
     "metadata": {
      "needs_background": "light"
     },
     "output_type": "display_data"
    },
    {
     "name": "stdout",
     "output_type": "stream",
     "text": [
      "\n",
      "\n",
      "\n",
      "\n",
      "\n",
      "\n",
      "\n",
      "\n",
      "\n",
      "\n",
      "\n",
      "\n",
      "\n",
      "\n",
      "\n",
      "\n",
      "\n",
      "\n",
      "\n",
      "\n",
      "--------------------------------------------------\n",
      "--------------------------------------------------\n",
      " Gen Size - 100\n",
      " Maze Size - [50 , 50]\n",
      " Obstacles Count - 125\n",
      " End Location - (49, 49)\n",
      " Was Solved - True\n"
     ]
    },
    {
     "data": {
      "image/png": "[encoded data removed]",
      "text/plain": [
       "<Figure size 432x288 with 1 Axes>"
      ]
     },
     "metadata": {
      "needs_background": "light"
     },
     "output_type": "display_data"
    },
    {
     "name": "stdout",
     "output_type": "stream",
     "text": [
      "\n",
      "\n",
      "\n",
      "\n",
      "\n",
      "\n",
      "\n",
      "\n",
      "\n",
      "\n",
      "\n",
      "\n",
      "\n",
      "\n",
      "\n",
      "\n",
      "\n",
      "\n",
      "\n",
      "\n",
      "--------------------------------------------------\n",
      "--------------------------------------------------\n",
      " Gen Size - 25\n",
      " Maze Size - [50 , 50]\n",
      " Obstacles Count - 250\n",
      " End Location - (49, 20)\n",
      " Was Solved - False\n"
     ]
    },
    {
     "data": {
      "image/png": "[encoded data removed]",
      "text/plain": [
       "<Figure size 432x288 with 1 Axes>"
      ]
     },
     "metadata": {
      "needs_background": "light"
     },
     "output_type": "display_data"
    },
    {
     "name": "stdout",
     "output_type": "stream",
     "text": [
      "\n",
      "\n",
      "\n",
      "\n",
      "\n",
      "\n",
      "\n",
      "\n",
      "\n",
      "\n",
      "\n",
      "\n",
      "\n",
      "\n",
      "\n",
      "\n",
      "\n",
      "\n",
      "\n",
      "\n",
      "--------------------------------------------------\n",
      "--------------------------------------------------\n",
      " Gen Size - 50\n",
      " Maze Size - [50 , 50]\n",
      " Obstacles Count - 250\n",
      " End Location - (49, 49)\n",
      " Was Solved - True\n"
     ]
    },
    {
     "data": {
      "image/png": "[encoded data removed]",
      "text/plain": [
       "<Figure size 432x288 with 1 Axes>"
      ]
     },
     "metadata": {
      "needs_background": "light"
     },
     "output_type": "display_data"
    },
    {
     "name": "stdout",
     "output_type": "stream",
     "text": [
      "\n",
      "\n",
      "\n",
      "\n",
      "\n",
      "\n",
      "\n",
      "\n",
      "\n",
      "\n",
      "\n",
      "\n",
      "\n",
      "\n",
      "\n",
      "\n",
      "\n",
      "\n",
      "\n",
      "\n",
      "--------------------------------------------------\n",
      "--------------------------------------------------\n",
      " Gen Size - 100\n",
      " Maze Size - [50 , 50]\n",
      " Obstacles Count - 250\n",
      " End Location - (47, 49)\n",
      " Was Solved - False\n"
     ]
    },
    {
     "data": {
      "image/png": "[encoded data removed]",
      "text/plain": [
       "<Figure size 432x288 with 1 Axes>"
      ]
     },
     "metadata": {
      "needs_background": "light"
     },
     "output_type": "display_data"
    }
   ],
   "source": [
    "for curr_trial in all_trials:\n",
    "    print('\\n' * 20 + '-' * 50 + '\\n' + '-' * 50)\n",
    "    print(' Gen Size - ' + str(curr_trial['gen_size']))\n",
    "    print(' Maze Size - [' + str(curr_trial['maze_size']) + ' , ' + str(curr_trial['maze_size']) + ']')\n",
    "    print(' Obstacles Count - ' + str(curr_trial['obstacles']))\n",
    "    print(' End Location - ' + str(curr_trial['best']['locations'][-1]))\n",
    "    print(' Was Solved - ' + str(curr_trial['valid']))\n",
    "    curr_maze = curr_trial['maze'].copy() \n",
    "    for x,y in curr_trial['best']['locations']:\n",
    "        curr_maze[y][x] = 2\n",
    "    plt.figure()\n",
    "    _ = plt.imshow(curr_maze, cmap='gray')\n",
    "    plt.show() "
   ]
  },
  {
   "cell_type": "code",
   "execution_count": 50,
   "metadata": {
    "collapsed": true,
    "deletable": true,
    "editable": true
   },
   "outputs": [],
   "source": [
    "results_list = list() \n",
    "for trial in all_trials:\n",
    "    tmp = dict() \n",
    "    tmp['count'] = trial['len']\n",
    "    tmp['gen_size'] = trial['gen_size']\n",
    "    tmp['maze_size'] = trial['maze_size']\n",
    "    tmp['solved_value'] = 1 if trial['valid'] is True else 0\n",
    "    tmp['solved'] = trial['valid'] \n",
    "    final_x, final_y = trial['best']['locations'][-1]\n",
    "    tmp['final_dist'] = (trial['maze_size'] - final_x -1) + (trial['maze_size'] - final_y - 1)\n",
    "    tmp['obstacles'] = trial['obstacles']\n",
    "    results_list.append(tmp)\n",
    "    \n",
    "results = pd.DataFrame(results_list)"
   ]
  },
  {
   "cell_type": "markdown",
   "metadata": {
    "deletable": true,
    "editable": true
   },
   "source": [
    "#### Finish Sucessfully Maze Plots"
   ]
  },
  {
   "cell_type": "code",
   "execution_count": 51,
   "metadata": {
    "collapsed": false,
    "deletable": true,
    "editable": true
   },
   "outputs": [
    {
     "data": {
      "image/png": "[encoded data removed]",
      "text/plain": [
       "<Figure size 432x288 with 1 Axes>"
      ]
     },
     "metadata": {
      "needs_background": "light"
     },
     "output_type": "display_data"
    }
   ],
   "source": [
    "_ = results[['maze_size','solved_value']].groupby('maze_size').sum().plot(style='o--', title='final solved count by maze size')"
   ]
  },
  {
   "cell_type": "code",
   "execution_count": 52,
   "metadata": {
    "collapsed": false,
    "deletable": true,
    "editable": true
   },
   "outputs": [
    {
     "data": {
      "image/png": "[encoded data removed]",
      "text/plain": [
       "<Figure size 432x288 with 1 Axes>"
      ]
     },
     "metadata": {
      "needs_background": "light"
     },
     "output_type": "display_data"
    }
   ],
   "source": [
    "_ = results[['gen_size','solved_value']].groupby('gen_size').sum().plot(style='o--', title='final solved count by gen size')"
   ]
  },
  {
   "cell_type": "code",
   "execution_count": 53,
   "metadata": {
    "collapsed": false,
    "deletable": true,
    "editable": true
   },
   "outputs": [
    {
     "data": {
      "image/png": "[encoded data removed]",
      "text/plain": [
       "<Figure size 432x288 with 1 Axes>"
      ]
     },
     "metadata": {
      "needs_background": "light"
     },
     "output_type": "display_data"
    }
   ],
   "source": [
    "_ = results[['obstacles','solved_value']].groupby('obstacles').sum().plot(style='o--', title='final solved count by obstacles count')"
   ]
  },
  {
   "cell_type": "markdown",
   "metadata": {
    "deletable": true,
    "editable": true
   },
   "source": [
    "#### Generation Count (Max Generation == 50)  Plots"
   ]
  },
  {
   "cell_type": "code",
   "execution_count": 67,
   "metadata": {
    "collapsed": false,
    "deletable": true,
    "editable": true
   },
   "outputs": [
    {
     "data": {
      "image/png": "[encoded data removed]",
      "text/plain": [
       "<Figure size 432x288 with 1 Axes>"
      ]
     },
     "metadata": {
      "needs_background": "light"
     },
     "output_type": "display_data"
    }
   ],
   "source": [
    "_ = results[['count','maze_size']].groupby('maze_size').mean().plot(style='o--', title='avg generation count by maze size')"
   ]
  },
  {
   "cell_type": "code",
   "execution_count": 68,
   "metadata": {
    "collapsed": false,
    "deletable": true,
    "editable": true
   },
   "outputs": [
    {
     "data": {
      "image/png": "[encoded data removed]",
      "text/plain": [
       "<Figure size 432x288 with 1 Axes>"
      ]
     },
     "metadata": {
      "needs_background": "light"
     },
     "output_type": "display_data"
    }
   ],
   "source": [
    "_ = results[['count','gen_size']].groupby('gen_size').mean().plot(style='o--', title='avg generation count by gen size')"
   ]
  },
  {
   "cell_type": "code",
   "execution_count": 69,
   "metadata": {
    "collapsed": false,
    "deletable": true,
    "editable": true
   },
   "outputs": [
    {
     "data": {
      "image/png": "[encoded data removed]",
      "text/plain": [
       "<Figure size 432x288 with 1 Axes>"
      ]
     },
     "metadata": {
      "needs_background": "light"
     },
     "output_type": "display_data"
    }
   ],
   "source": [
    "_ = results[['count','obstacles']].groupby('obstacles').mean().plot(style='o--', title='avg generation count by obstacled count')"
   ]
  },
  {
   "cell_type": "markdown",
   "metadata": {
    "deletable": true,
    "editable": true
   },
   "source": [
    "0 is higher and its ok since there are more 0 games than other options "
   ]
  },
  {
   "cell_type": "markdown",
   "metadata": {
    "deletable": true,
    "editable": true
   },
   "source": [
    "#### Distance From Finish Points Plots"
   ]
  },
  {
   "cell_type": "code",
   "execution_count": 57,
   "metadata": {
    "collapsed": false,
    "deletable": true,
    "editable": true
   },
   "outputs": [
    {
     "data": {
      "image/png": "[encoded data removed]",
      "text/plain": [
       "<Figure size 432x288 with 1 Axes>"
      ]
     },
     "metadata": {
      "needs_background": "light"
     },
     "output_type": "display_data"
    }
   ],
   "source": [
    "_ = results[['maze_size','final_dist']].groupby('maze_size').sum().plot(style='o--', title='final dist sum by maze size')"
   ]
  },
  {
   "cell_type": "code",
   "execution_count": 59,
   "metadata": {
    "collapsed": false,
    "deletable": true,
    "editable": true
   },
   "outputs": [
    {
     "data": {
      "image/png": "[encoded data removed]",
      "text/plain": [
       "<Figure size 432x288 with 1 Axes>"
      ]
     },
     "metadata": {
      "needs_background": "light"
     },
     "output_type": "display_data"
    }
   ],
   "source": [
    "_ = results[['gen_size','final_dist']].groupby('gen_size').sum().plot(style='o--', title='final dist sum by gen size')"
   ]
  },
  {
   "cell_type": "code",
   "execution_count": 60,
   "metadata": {
    "collapsed": false,
    "deletable": true,
    "editable": true
   },
   "outputs": [
    {
     "data": {
      "image/png": "[encoded data removed]",
      "text/plain": [
       "<Figure size 432x288 with 1 Axes>"
      ]
     },
     "metadata": {
      "needs_background": "light"
     },
     "output_type": "display_data"
    }
   ],
   "source": [
    "_ = results[['obstacles','final_dist']].groupby('obstacles').sum().plot(style='o--', title='final dist sum by obstacles count')"
   ]
  },
  {
   "cell_type": "markdown",
   "metadata": {
    "deletable": true,
    "editable": true
   },
   "source": [
    "0 is higher and its ok since there are more 0 games than other options "
   ]
  },
  {
   "cell_type": "markdown",
   "metadata": {
    "deletable": true,
    "editable": true
   },
   "source": [
    "#### All Results Printed "
   ]
  },
  {
   "cell_type": "code",
   "execution_count": 55,
   "metadata": {
    "collapsed": false,
    "deletable": true,
    "editable": true
   },
   "outputs": [
    {
     "data": {
      "text/html": [
       "<div>\n",
       "<style scoped>\n",
       "    .dataframe tbody tr th:only-of-type {\n",
       "        vertical-align: middle;\n",
       "    }\n",
       "\n",
       "    .dataframe tbody tr th {\n",
       "        vertical-align: top;\n",
       "    }\n",
       "\n",
       "    .dataframe thead th {\n",
       "        text-align: right;\n",
       "    }\n",
       "</style>\n",
       "<table border=\"1\" class=\"dataframe\">\n",
       "  <thead>\n",
       "    <tr style=\"text-align: right;\">\n",
       "      <th></th>\n",
       "      <th>count</th>\n",
       "      <th>gen_size</th>\n",
       "      <th>maze_size</th>\n",
       "      <th>solved_value</th>\n",
       "      <th>solved</th>\n",
       "      <th>final_dist</th>\n",
       "      <th>obstacles</th>\n",
       "    </tr>\n",
       "  </thead>\n",
       "  <tbody>\n",
       "    <tr>\n",
       "      <th>0</th>\n",
       "      <td>16</td>\n",
       "      <td>25</td>\n",
       "      <td>10</td>\n",
       "      <td>1</td>\n",
       "      <td>True</td>\n",
       "      <td>0</td>\n",
       "      <td>0</td>\n",
       "    </tr>\n",
       "    <tr>\n",
       "      <th>1</th>\n",
       "      <td>15</td>\n",
       "      <td>50</td>\n",
       "      <td>10</td>\n",
       "      <td>1</td>\n",
       "      <td>True</td>\n",
       "      <td>0</td>\n",
       "      <td>0</td>\n",
       "    </tr>\n",
       "    <tr>\n",
       "      <th>2</th>\n",
       "      <td>14</td>\n",
       "      <td>100</td>\n",
       "      <td>10</td>\n",
       "      <td>1</td>\n",
       "      <td>True</td>\n",
       "      <td>0</td>\n",
       "      <td>0</td>\n",
       "    </tr>\n",
       "    <tr>\n",
       "      <th>3</th>\n",
       "      <td>16</td>\n",
       "      <td>25</td>\n",
       "      <td>10</td>\n",
       "      <td>1</td>\n",
       "      <td>True</td>\n",
       "      <td>0</td>\n",
       "      <td>5</td>\n",
       "    </tr>\n",
       "    <tr>\n",
       "      <th>4</th>\n",
       "      <td>15</td>\n",
       "      <td>50</td>\n",
       "      <td>10</td>\n",
       "      <td>1</td>\n",
       "      <td>True</td>\n",
       "      <td>0</td>\n",
       "      <td>5</td>\n",
       "    </tr>\n",
       "    <tr>\n",
       "      <th>5</th>\n",
       "      <td>13</td>\n",
       "      <td>100</td>\n",
       "      <td>10</td>\n",
       "      <td>1</td>\n",
       "      <td>True</td>\n",
       "      <td>0</td>\n",
       "      <td>5</td>\n",
       "    </tr>\n",
       "    <tr>\n",
       "      <th>6</th>\n",
       "      <td>17</td>\n",
       "      <td>25</td>\n",
       "      <td>10</td>\n",
       "      <td>1</td>\n",
       "      <td>True</td>\n",
       "      <td>0</td>\n",
       "      <td>10</td>\n",
       "    </tr>\n",
       "    <tr>\n",
       "      <th>7</th>\n",
       "      <td>15</td>\n",
       "      <td>50</td>\n",
       "      <td>10</td>\n",
       "      <td>1</td>\n",
       "      <td>True</td>\n",
       "      <td>0</td>\n",
       "      <td>10</td>\n",
       "    </tr>\n",
       "    <tr>\n",
       "      <th>8</th>\n",
       "      <td>15</td>\n",
       "      <td>100</td>\n",
       "      <td>10</td>\n",
       "      <td>1</td>\n",
       "      <td>True</td>\n",
       "      <td>0</td>\n",
       "      <td>10</td>\n",
       "    </tr>\n",
       "    <tr>\n",
       "      <th>9</th>\n",
       "      <td>17</td>\n",
       "      <td>25</td>\n",
       "      <td>25</td>\n",
       "      <td>1</td>\n",
       "      <td>True</td>\n",
       "      <td>0</td>\n",
       "      <td>0</td>\n",
       "    </tr>\n",
       "    <tr>\n",
       "      <th>10</th>\n",
       "      <td>17</td>\n",
       "      <td>50</td>\n",
       "      <td>25</td>\n",
       "      <td>1</td>\n",
       "      <td>True</td>\n",
       "      <td>0</td>\n",
       "      <td>0</td>\n",
       "    </tr>\n",
       "    <tr>\n",
       "      <th>11</th>\n",
       "      <td>16</td>\n",
       "      <td>100</td>\n",
       "      <td>25</td>\n",
       "      <td>1</td>\n",
       "      <td>True</td>\n",
       "      <td>0</td>\n",
       "      <td>0</td>\n",
       "    </tr>\n",
       "    <tr>\n",
       "      <th>12</th>\n",
       "      <td>50</td>\n",
       "      <td>25</td>\n",
       "      <td>25</td>\n",
       "      <td>0</td>\n",
       "      <td>False</td>\n",
       "      <td>1</td>\n",
       "      <td>31</td>\n",
       "    </tr>\n",
       "    <tr>\n",
       "      <th>13</th>\n",
       "      <td>17</td>\n",
       "      <td>50</td>\n",
       "      <td>25</td>\n",
       "      <td>1</td>\n",
       "      <td>True</td>\n",
       "      <td>0</td>\n",
       "      <td>31</td>\n",
       "    </tr>\n",
       "    <tr>\n",
       "      <th>14</th>\n",
       "      <td>18</td>\n",
       "      <td>100</td>\n",
       "      <td>25</td>\n",
       "      <td>1</td>\n",
       "      <td>True</td>\n",
       "      <td>0</td>\n",
       "      <td>31</td>\n",
       "    </tr>\n",
       "    <tr>\n",
       "      <th>15</th>\n",
       "      <td>50</td>\n",
       "      <td>25</td>\n",
       "      <td>25</td>\n",
       "      <td>0</td>\n",
       "      <td>False</td>\n",
       "      <td>9</td>\n",
       "      <td>62</td>\n",
       "    </tr>\n",
       "    <tr>\n",
       "      <th>16</th>\n",
       "      <td>17</td>\n",
       "      <td>50</td>\n",
       "      <td>25</td>\n",
       "      <td>1</td>\n",
       "      <td>True</td>\n",
       "      <td>0</td>\n",
       "      <td>62</td>\n",
       "    </tr>\n",
       "    <tr>\n",
       "      <th>17</th>\n",
       "      <td>18</td>\n",
       "      <td>100</td>\n",
       "      <td>25</td>\n",
       "      <td>1</td>\n",
       "      <td>True</td>\n",
       "      <td>0</td>\n",
       "      <td>62</td>\n",
       "    </tr>\n",
       "    <tr>\n",
       "      <th>18</th>\n",
       "      <td>50</td>\n",
       "      <td>25</td>\n",
       "      <td>50</td>\n",
       "      <td>0</td>\n",
       "      <td>False</td>\n",
       "      <td>18</td>\n",
       "      <td>0</td>\n",
       "    </tr>\n",
       "    <tr>\n",
       "      <th>19</th>\n",
       "      <td>18</td>\n",
       "      <td>50</td>\n",
       "      <td>50</td>\n",
       "      <td>1</td>\n",
       "      <td>True</td>\n",
       "      <td>0</td>\n",
       "      <td>0</td>\n",
       "    </tr>\n",
       "    <tr>\n",
       "      <th>20</th>\n",
       "      <td>18</td>\n",
       "      <td>100</td>\n",
       "      <td>50</td>\n",
       "      <td>1</td>\n",
       "      <td>True</td>\n",
       "      <td>0</td>\n",
       "      <td>0</td>\n",
       "    </tr>\n",
       "    <tr>\n",
       "      <th>21</th>\n",
       "      <td>50</td>\n",
       "      <td>25</td>\n",
       "      <td>50</td>\n",
       "      <td>0</td>\n",
       "      <td>False</td>\n",
       "      <td>1</td>\n",
       "      <td>125</td>\n",
       "    </tr>\n",
       "    <tr>\n",
       "      <th>22</th>\n",
       "      <td>50</td>\n",
       "      <td>50</td>\n",
       "      <td>50</td>\n",
       "      <td>0</td>\n",
       "      <td>False</td>\n",
       "      <td>6</td>\n",
       "      <td>125</td>\n",
       "    </tr>\n",
       "    <tr>\n",
       "      <th>23</th>\n",
       "      <td>19</td>\n",
       "      <td>100</td>\n",
       "      <td>50</td>\n",
       "      <td>1</td>\n",
       "      <td>True</td>\n",
       "      <td>0</td>\n",
       "      <td>125</td>\n",
       "    </tr>\n",
       "    <tr>\n",
       "      <th>24</th>\n",
       "      <td>50</td>\n",
       "      <td>25</td>\n",
       "      <td>50</td>\n",
       "      <td>0</td>\n",
       "      <td>False</td>\n",
       "      <td>29</td>\n",
       "      <td>250</td>\n",
       "    </tr>\n",
       "    <tr>\n",
       "      <th>25</th>\n",
       "      <td>22</td>\n",
       "      <td>50</td>\n",
       "      <td>50</td>\n",
       "      <td>1</td>\n",
       "      <td>True</td>\n",
       "      <td>0</td>\n",
       "      <td>250</td>\n",
       "    </tr>\n",
       "    <tr>\n",
       "      <th>26</th>\n",
       "      <td>50</td>\n",
       "      <td>100</td>\n",
       "      <td>50</td>\n",
       "      <td>0</td>\n",
       "      <td>False</td>\n",
       "      <td>2</td>\n",
       "      <td>250</td>\n",
       "    </tr>\n",
       "  </tbody>\n",
       "</table>\n",
       "</div>"
      ],
      "text/plain": [
       "    count  gen_size  maze_size  solved_value  solved  final_dist  obstacles\n",
       "0      16        25         10             1    True           0          0\n",
       "1      15        50         10             1    True           0          0\n",
       "2      14       100         10             1    True           0          0\n",
       "3      16        25         10             1    True           0          5\n",
       "4      15        50         10             1    True           0          5\n",
       "5      13       100         10             1    True           0          5\n",
       "6      17        25         10             1    True           0         10\n",
       "7      15        50         10             1    True           0         10\n",
       "8      15       100         10             1    True           0         10\n",
       "9      17        25         25             1    True           0          0\n",
       "10     17        50         25             1    True           0          0\n",
       "11     16       100         25             1    True           0          0\n",
       "12     50        25         25             0   False           1         31\n",
       "13     17        50         25             1    True           0         31\n",
       "14     18       100         25             1    True           0         31\n",
       "15     50        25         25             0   False           9         62\n",
       "16     17        50         25             1    True           0         62\n",
       "17     18       100         25             1    True           0         62\n",
       "18     50        25         50             0   False          18          0\n",
       "19     18        50         50             1    True           0          0\n",
       "20     18       100         50             1    True           0          0\n",
       "21     50        25         50             0   False           1        125\n",
       "22     50        50         50             0   False           6        125\n",
       "23     19       100         50             1    True           0        125\n",
       "24     50        25         50             0   False          29        250\n",
       "25     22        50         50             1    True           0        250\n",
       "26     50       100         50             0   False           2        250"
      ]
     },
     "execution_count": 55,
     "metadata": {},
     "output_type": "execute_result"
    }
   ],
   "source": [
    "results"
   ]
  }
 ],
 "metadata": {
  "anaconda-cloud": {},
  "kernelspec": {
   "display_name": "Python [default]",
   "language": "python",
   "name": "python3"
  },
  "language_info": {
   "codemirror_mode": {
    "name": "ipython",
    "version": 3
   },
   "file_extension": ".py",
   "mimetype": "text/x-python",
   "name": "python",
   "nbconvert_exporter": "python",
   "pygments_lexer": "ipython3",
   "version": "3.5.2"
  },
  "toc": {
   "colors": {
    "hover_highlight": "#DAA520",
    "navigate_num": "#000000",
    "navigate_text": "#333333",
    "running_highlight": "#FF0000",
    "selected_highlight": "#FFD700",
    "sidebar_border": "#EEEEEE",
    "wrapper_background": "#FFFFFF"
   },
   "moveMenuLeft": true,
   "nav_menu": {
    "height": "271px",
    "width": "253px"
   },
   "navigate_menu": true,
   "number_sections": true,
   "sideBar": true,
   "skip_h1_title": false,
   "threshold": 4,
   "toc_cell": false,
   "toc_section_display": "block",
   "toc_window_display": false,
   "widenNotebook": false
  },
  "varInspector": {
   "cols": {
    "lenName": 16,
    "lenType": 16,
    "lenVar": 40
   },
   "kernels_config": {
    "python": {
     "delete_cmd_postfix": "",
     "delete_cmd_prefix": "del ",
     "library": "var_list.py",
     "varRefreshCmd": "print(var_dic_list())"
    },
    "r": {
     "delete_cmd_postfix": ") ",
     "delete_cmd_prefix": "rm(",
     "library": "var_list.r",
     "varRefreshCmd": "cat(var_dic_list()) "
    }
   },
   "types_to_exclude": [
    "module",
    "function",
    "builtin_function_or_method",
    "instance",
    "_Feature"
   ],
   "window_display": false
  }
 },
 "nbformat": 4,
 "nbformat_minor": 2
}
